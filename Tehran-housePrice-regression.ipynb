{
 "cells": [
  {
   "cell_type": "markdown",
   "id": "f9240173",
   "metadata": {},
   "source": [
    "<center>\n",
    "    <h2>predicting house price in tehran</h2>\n",
    "    <h3> by soroush lotfi</h3>\n",
    "</center>"
   ]
  },
  {
   "cell_type": "markdown",
   "id": "4e9cd788",
   "metadata": {},
   "source": [
    "# Table of content:\n",
    "1. [Import Libraries](#1)\n",
    "2. [Reading Dataset](#2)\n",
    "3. [Data Pre-processing](#3)\n",
    "\n",
    " - <a href='#duplicate'>step1: Deduplicating the data</a>\n",
    " - <a href='#structure'>step2: Fixing structural errors</a>\n",
    " - <a href='#missingData'>step3: Dealing with missing data</a>\n",
    " - <a href='#outliers'>step4: Filtering data outliers</a>\n",
    " - <a href='#categorical'> step5: Converting categorical variables into dummy variables</a>\n",
    "<br>\n",
    "<br>\n",
    "4. [Modeling](#4)\n",
    "5. [Conclusions](#5)\n",
    "6. [References](#6)"
   ]
  },
  {
   "cell_type": "markdown",
   "id": "c8ba7eb2",
   "metadata": {},
   "source": [
    "# Import Libraries <a id = \"1\"></a> "
   ]
  },
  {
   "cell_type": "code",
   "execution_count": 43,
   "id": "d802ea65",
   "metadata": {},
   "outputs": [],
   "source": [
    "import matplotlib.pyplot as plt\n",
    "import numpy as np\n",
    "import pandas as pd\n",
    "\n",
    "from sklearn.ensemble import RandomForestRegressor\n",
    "from sklearn.linear_model import  ElasticNet, Lasso, LinearRegression, Ridge\n",
    "from sklearn.neighbors import KNeighborsRegressor\n",
    "from sklearn.metrics import mean_squared_error\n",
    "from sklearn.model_selection import GridSearchCV, KFold, train_test_split\n",
    "from sklearn.tree import DecisionTreeRegressor\n",
    "\n",
    "import seaborn as sns\n",
    "sns.set_style(\"whitegrid\")\n",
    "\n",
    "import time\n",
    "\n",
    "import warnings\n",
    "warnings.filterwarnings(\"ignore\")"
   ]
  },
  {
   "cell_type": "markdown",
   "id": "167fee98",
   "metadata": {},
   "source": [
    "# Reading Dataset <a id = \"2\"></a> \n",
    "\n",
    "\n",
    "\n",
    "|parameter||description|\n",
    "|------||------|\n",
    "|Area||Area in square meters|\n",
    "|Room||Number of bedrooms|\n",
    "|Parking|| Has Parking or not|\n",
    "|Warehouse||Has warehouse or not|\n",
    "|Elevator||Has elevator or not|\n",
    "|Address|| The region where the house is placed|\n",
    "|Price||Price in Toman|\n",
    "|Price(USD)|| Price in USD|"
   ]
  },
  {
   "cell_type": "code",
   "execution_count": 44,
   "id": "ba503e4a",
   "metadata": {},
   "outputs": [
    {
     "name": "stdout",
     "output_type": "stream",
     "text": [
      "shape of the dataset: (3479, 8)\n"
     ]
    },
    {
     "data": {
      "text/html": [
       "<div>\n",
       "<style scoped>\n",
       "    .dataframe tbody tr th:only-of-type {\n",
       "        vertical-align: middle;\n",
       "    }\n",
       "\n",
       "    .dataframe tbody tr th {\n",
       "        vertical-align: top;\n",
       "    }\n",
       "\n",
       "    .dataframe thead th {\n",
       "        text-align: right;\n",
       "    }\n",
       "</style>\n",
       "<table border=\"1\" class=\"dataframe\">\n",
       "  <thead>\n",
       "    <tr style=\"text-align: right;\">\n",
       "      <th></th>\n",
       "      <th>Area</th>\n",
       "      <th>Room</th>\n",
       "      <th>Parking</th>\n",
       "      <th>Warehouse</th>\n",
       "      <th>Elevator</th>\n",
       "      <th>Address</th>\n",
       "      <th>Price</th>\n",
       "      <th>Price(USD)</th>\n",
       "    </tr>\n",
       "  </thead>\n",
       "  <tbody>\n",
       "    <tr>\n",
       "      <th>0</th>\n",
       "      <td>63</td>\n",
       "      <td>1</td>\n",
       "      <td>True</td>\n",
       "      <td>True</td>\n",
       "      <td>True</td>\n",
       "      <td>Shahran</td>\n",
       "      <td>1.850000e+09</td>\n",
       "      <td>61666.67</td>\n",
       "    </tr>\n",
       "    <tr>\n",
       "      <th>1</th>\n",
       "      <td>60</td>\n",
       "      <td>1</td>\n",
       "      <td>True</td>\n",
       "      <td>True</td>\n",
       "      <td>True</td>\n",
       "      <td>Shahran</td>\n",
       "      <td>1.850000e+09</td>\n",
       "      <td>61666.67</td>\n",
       "    </tr>\n",
       "    <tr>\n",
       "      <th>2</th>\n",
       "      <td>79</td>\n",
       "      <td>2</td>\n",
       "      <td>True</td>\n",
       "      <td>True</td>\n",
       "      <td>True</td>\n",
       "      <td>Pardis</td>\n",
       "      <td>5.500000e+08</td>\n",
       "      <td>18333.33</td>\n",
       "    </tr>\n",
       "    <tr>\n",
       "      <th>3</th>\n",
       "      <td>95</td>\n",
       "      <td>2</td>\n",
       "      <td>True</td>\n",
       "      <td>True</td>\n",
       "      <td>True</td>\n",
       "      <td>Shahrake Qods</td>\n",
       "      <td>9.025000e+08</td>\n",
       "      <td>30083.33</td>\n",
       "    </tr>\n",
       "    <tr>\n",
       "      <th>4</th>\n",
       "      <td>123</td>\n",
       "      <td>2</td>\n",
       "      <td>True</td>\n",
       "      <td>True</td>\n",
       "      <td>True</td>\n",
       "      <td>Shahrake Gharb</td>\n",
       "      <td>7.000000e+09</td>\n",
       "      <td>233333.33</td>\n",
       "    </tr>\n",
       "  </tbody>\n",
       "</table>\n",
       "</div>"
      ],
      "text/plain": [
       "  Area  Room  Parking  Warehouse  Elevator         Address         Price  \\\n",
       "0   63     1     True       True      True         Shahran  1.850000e+09   \n",
       "1   60     1     True       True      True         Shahran  1.850000e+09   \n",
       "2   79     2     True       True      True          Pardis  5.500000e+08   \n",
       "3   95     2     True       True      True   Shahrake Qods  9.025000e+08   \n",
       "4  123     2     True       True      True  Shahrake Gharb  7.000000e+09   \n",
       "\n",
       "   Price(USD)  \n",
       "0    61666.67  \n",
       "1    61666.67  \n",
       "2    18333.33  \n",
       "3    30083.33  \n",
       "4   233333.33  "
      ]
     },
     "execution_count": 44,
     "metadata": {},
     "output_type": "execute_result"
    }
   ],
   "source": [
    "house_price = pd.read_csv('housePrice.csv')\n",
    "print(\"shape of the dataset:\",house_price.shape)\n",
    "house_price.head()"
   ]
  },
  {
   "cell_type": "markdown",
   "id": "9160adfa",
   "metadata": {},
   "source": [
    "# Data Pre-processing <a id = \"3\"></a> "
   ]
  },
  {
   "cell_type": "code",
   "execution_count": 45,
   "id": "8ddc8a8a",
   "metadata": {},
   "outputs": [
    {
     "name": "stdout",
     "output_type": "stream",
     "text": [
      "<class 'pandas.core.frame.DataFrame'>\n",
      "RangeIndex: 3479 entries, 0 to 3478\n",
      "Data columns (total 8 columns):\n",
      " #   Column      Non-Null Count  Dtype  \n",
      "---  ------      --------------  -----  \n",
      " 0   Area        3479 non-null   object \n",
      " 1   Room        3479 non-null   int64  \n",
      " 2   Parking     3479 non-null   bool   \n",
      " 3   Warehouse   3479 non-null   bool   \n",
      " 4   Elevator    3479 non-null   bool   \n",
      " 5   Address     3456 non-null   object \n",
      " 6   Price       3479 non-null   float64\n",
      " 7   Price(USD)  3479 non-null   float64\n",
      "dtypes: bool(3), float64(2), int64(1), object(2)\n",
      "memory usage: 146.2+ KB\n"
     ]
    }
   ],
   "source": [
    "house_price.info()"
   ]
  },
  {
   "cell_type": "markdown",
   "id": "5c3fcfeb",
   "metadata": {},
   "source": [
    "### step1: Deduplicate your data.  <a id='duplicate'></a> <br />"
   ]
  },
  {
   "cell_type": "code",
   "execution_count": 46,
   "id": "b7c84658",
   "metadata": {},
   "outputs": [
    {
     "data": {
      "text/html": [
       "<div>\n",
       "<style scoped>\n",
       "    .dataframe tbody tr th:only-of-type {\n",
       "        vertical-align: middle;\n",
       "    }\n",
       "\n",
       "    .dataframe tbody tr th {\n",
       "        vertical-align: top;\n",
       "    }\n",
       "\n",
       "    .dataframe thead th {\n",
       "        text-align: right;\n",
       "    }\n",
       "</style>\n",
       "<table border=\"1\" class=\"dataframe\">\n",
       "  <thead>\n",
       "    <tr style=\"text-align: right;\">\n",
       "      <th></th>\n",
       "      <th>Area</th>\n",
       "      <th>Room</th>\n",
       "      <th>Parking</th>\n",
       "      <th>Warehouse</th>\n",
       "      <th>Elevator</th>\n",
       "      <th>Address</th>\n",
       "      <th>Price</th>\n",
       "      <th>Price(USD)</th>\n",
       "      <th>size</th>\n",
       "    </tr>\n",
       "  </thead>\n",
       "  <tbody>\n",
       "    <tr>\n",
       "      <th>0</th>\n",
       "      <td>1,000</td>\n",
       "      <td>2</td>\n",
       "      <td>True</td>\n",
       "      <td>True</td>\n",
       "      <td>False</td>\n",
       "      <td>Damavand</td>\n",
       "      <td>7.000000e+09</td>\n",
       "      <td>233333.33</td>\n",
       "      <td>1</td>\n",
       "    </tr>\n",
       "    <tr>\n",
       "      <th>1</th>\n",
       "      <td>16,160,000,000</td>\n",
       "      <td>3</td>\n",
       "      <td>True</td>\n",
       "      <td>True</td>\n",
       "      <td>True</td>\n",
       "      <td>Pasdaran</td>\n",
       "      <td>1.616000e+10</td>\n",
       "      <td>538666.67</td>\n",
       "      <td>1</td>\n",
       "    </tr>\n",
       "    <tr>\n",
       "      <th>2</th>\n",
       "      <td>2,550,000,000</td>\n",
       "      <td>2</td>\n",
       "      <td>True</td>\n",
       "      <td>True</td>\n",
       "      <td>True</td>\n",
       "      <td>Central Janatabad</td>\n",
       "      <td>2.550000e+09</td>\n",
       "      <td>85000.00</td>\n",
       "      <td>1</td>\n",
       "    </tr>\n",
       "    <tr>\n",
       "      <th>3</th>\n",
       "      <td>3,310,000,000</td>\n",
       "      <td>2</td>\n",
       "      <td>True</td>\n",
       "      <td>True</td>\n",
       "      <td>True</td>\n",
       "      <td>Ostad Moein</td>\n",
       "      <td>3.310000e+09</td>\n",
       "      <td>110333.33</td>\n",
       "      <td>1</td>\n",
       "    </tr>\n",
       "    <tr>\n",
       "      <th>4</th>\n",
       "      <td>3,600</td>\n",
       "      <td>2</td>\n",
       "      <td>False</td>\n",
       "      <td>False</td>\n",
       "      <td>False</td>\n",
       "      <td>Shahryar</td>\n",
       "      <td>9.720000e+09</td>\n",
       "      <td>324000.00</td>\n",
       "      <td>1</td>\n",
       "    </tr>\n",
       "  </tbody>\n",
       "</table>\n",
       "</div>"
      ],
      "text/plain": [
       "               Area  Room  Parking  Warehouse  Elevator            Address  \\\n",
       "0            1,000      2     True       True     False           Damavand   \n",
       "1   16,160,000,000      3     True       True      True           Pasdaran   \n",
       "2    2,550,000,000      2     True       True      True  Central Janatabad   \n",
       "3    3,310,000,000      2     True       True      True        Ostad Moein   \n",
       "4            3,600      2    False      False     False           Shahryar   \n",
       "\n",
       "          Price  Price(USD)  size  \n",
       "0  7.000000e+09   233333.33     1  \n",
       "1  1.616000e+10   538666.67     1  \n",
       "2  2.550000e+09    85000.00     1  \n",
       "3  3.310000e+09   110333.33     1  \n",
       "4  9.720000e+09   324000.00     1  "
      ]
     },
     "execution_count": 46,
     "metadata": {},
     "output_type": "execute_result"
    }
   ],
   "source": [
    "temp=house_price.groupby(house_price.columns.tolist(),as_index=False).size()\n",
    "temp.head()\n",
    "\n",
    "#size column in temp represents how many times each row showes up in dataset"
   ]
  },
  {
   "cell_type": "code",
   "execution_count": 47,
   "id": "5fec5b7a",
   "metadata": {
    "scrolled": true
   },
   "outputs": [
    {
     "data": {
      "text/plain": [
       "1     3087\n",
       "2      131\n",
       "3       24\n",
       "4        4\n",
       "5        1\n",
       "14       1\n",
       "Name: size, dtype: int64"
      ]
     },
     "execution_count": 47,
     "metadata": {},
     "output_type": "execute_result"
    }
   ],
   "source": [
    "temp['size'].value_counts()"
   ]
  },
  {
   "cell_type": "code",
   "execution_count": 48,
   "id": "cf97a2c8",
   "metadata": {},
   "outputs": [
    {
     "name": "stdout",
     "output_type": "stream",
     "text": [
      "Shape of dataset after removing duplicate rows: (3271, 8)\n"
     ]
    },
    {
     "data": {
      "text/html": [
       "<div>\n",
       "<style scoped>\n",
       "    .dataframe tbody tr th:only-of-type {\n",
       "        vertical-align: middle;\n",
       "    }\n",
       "\n",
       "    .dataframe tbody tr th {\n",
       "        vertical-align: top;\n",
       "    }\n",
       "\n",
       "    .dataframe thead th {\n",
       "        text-align: right;\n",
       "    }\n",
       "</style>\n",
       "<table border=\"1\" class=\"dataframe\">\n",
       "  <thead>\n",
       "    <tr style=\"text-align: right;\">\n",
       "      <th></th>\n",
       "      <th>Area</th>\n",
       "      <th>Room</th>\n",
       "      <th>Parking</th>\n",
       "      <th>Warehouse</th>\n",
       "      <th>Elevator</th>\n",
       "      <th>Address</th>\n",
       "      <th>Price</th>\n",
       "      <th>Price(USD)</th>\n",
       "    </tr>\n",
       "  </thead>\n",
       "  <tbody>\n",
       "    <tr>\n",
       "      <th>0</th>\n",
       "      <td>63</td>\n",
       "      <td>1</td>\n",
       "      <td>True</td>\n",
       "      <td>True</td>\n",
       "      <td>True</td>\n",
       "      <td>Shahran</td>\n",
       "      <td>1.850000e+09</td>\n",
       "      <td>61666.67</td>\n",
       "    </tr>\n",
       "    <tr>\n",
       "      <th>1</th>\n",
       "      <td>60</td>\n",
       "      <td>1</td>\n",
       "      <td>True</td>\n",
       "      <td>True</td>\n",
       "      <td>True</td>\n",
       "      <td>Shahran</td>\n",
       "      <td>1.850000e+09</td>\n",
       "      <td>61666.67</td>\n",
       "    </tr>\n",
       "    <tr>\n",
       "      <th>2</th>\n",
       "      <td>79</td>\n",
       "      <td>2</td>\n",
       "      <td>True</td>\n",
       "      <td>True</td>\n",
       "      <td>True</td>\n",
       "      <td>Pardis</td>\n",
       "      <td>5.500000e+08</td>\n",
       "      <td>18333.33</td>\n",
       "    </tr>\n",
       "    <tr>\n",
       "      <th>3</th>\n",
       "      <td>95</td>\n",
       "      <td>2</td>\n",
       "      <td>True</td>\n",
       "      <td>True</td>\n",
       "      <td>True</td>\n",
       "      <td>Shahrake Qods</td>\n",
       "      <td>9.025000e+08</td>\n",
       "      <td>30083.33</td>\n",
       "    </tr>\n",
       "    <tr>\n",
       "      <th>4</th>\n",
       "      <td>123</td>\n",
       "      <td>2</td>\n",
       "      <td>True</td>\n",
       "      <td>True</td>\n",
       "      <td>True</td>\n",
       "      <td>Shahrake Gharb</td>\n",
       "      <td>7.000000e+09</td>\n",
       "      <td>233333.33</td>\n",
       "    </tr>\n",
       "  </tbody>\n",
       "</table>\n",
       "</div>"
      ],
      "text/plain": [
       "  Area  Room  Parking  Warehouse  Elevator         Address         Price  \\\n",
       "0   63     1     True       True      True         Shahran  1.850000e+09   \n",
       "1   60     1     True       True      True         Shahran  1.850000e+09   \n",
       "2   79     2     True       True      True          Pardis  5.500000e+08   \n",
       "3   95     2     True       True      True   Shahrake Qods  9.025000e+08   \n",
       "4  123     2     True       True      True  Shahrake Gharb  7.000000e+09   \n",
       "\n",
       "   Price(USD)  \n",
       "0    61666.67  \n",
       "1    61666.67  \n",
       "2    18333.33  \n",
       "3    30083.33  \n",
       "4   233333.33  "
      ]
     },
     "execution_count": 48,
     "metadata": {},
     "output_type": "execute_result"
    }
   ],
   "source": [
    "#we need to remove all the data that accured in our dataset more than 1 time\n",
    "\n",
    "house_price.drop_duplicates(inplace = True)\n",
    "house_price.reset_index(drop = True, inplace= True)\n",
    "\n",
    "print(f\"Shape of dataset after removing duplicate rows: {house_price.shape}\")\n",
    "house_price.head()"
   ]
  },
  {
   "cell_type": "markdown",
   "id": "6cd0bbc2",
   "metadata": {},
   "source": [
    "### step2: Fix structural errors.  <a id='structure'></a> <br />"
   ]
  },
  {
   "cell_type": "code",
   "execution_count": 49,
   "id": "d97bb0d7",
   "metadata": {},
   "outputs": [
    {
     "data": {
      "text/html": [
       "<div>\n",
       "<style scoped>\n",
       "    .dataframe tbody tr th:only-of-type {\n",
       "        vertical-align: middle;\n",
       "    }\n",
       "\n",
       "    .dataframe tbody tr th {\n",
       "        vertical-align: top;\n",
       "    }\n",
       "\n",
       "    .dataframe thead th {\n",
       "        text-align: right;\n",
       "    }\n",
       "</style>\n",
       "<table border=\"1\" class=\"dataframe\">\n",
       "  <thead>\n",
       "    <tr style=\"text-align: right;\">\n",
       "      <th></th>\n",
       "      <th>Area</th>\n",
       "      <th>Room</th>\n",
       "      <th>Parking</th>\n",
       "      <th>Warehouse</th>\n",
       "      <th>Elevator</th>\n",
       "      <th>Address</th>\n",
       "      <th>Price(USD)</th>\n",
       "    </tr>\n",
       "  </thead>\n",
       "  <tbody>\n",
       "    <tr>\n",
       "      <th>0</th>\n",
       "      <td>63.0</td>\n",
       "      <td>1</td>\n",
       "      <td>1</td>\n",
       "      <td>1</td>\n",
       "      <td>1</td>\n",
       "      <td>Shahran</td>\n",
       "      <td>61666.67</td>\n",
       "    </tr>\n",
       "    <tr>\n",
       "      <th>1</th>\n",
       "      <td>60.0</td>\n",
       "      <td>1</td>\n",
       "      <td>1</td>\n",
       "      <td>1</td>\n",
       "      <td>1</td>\n",
       "      <td>Shahran</td>\n",
       "      <td>61666.67</td>\n",
       "    </tr>\n",
       "    <tr>\n",
       "      <th>2</th>\n",
       "      <td>79.0</td>\n",
       "      <td>2</td>\n",
       "      <td>1</td>\n",
       "      <td>1</td>\n",
       "      <td>1</td>\n",
       "      <td>Pardis</td>\n",
       "      <td>18333.33</td>\n",
       "    </tr>\n",
       "    <tr>\n",
       "      <th>3</th>\n",
       "      <td>95.0</td>\n",
       "      <td>2</td>\n",
       "      <td>1</td>\n",
       "      <td>1</td>\n",
       "      <td>1</td>\n",
       "      <td>Shahrake Qods</td>\n",
       "      <td>30083.33</td>\n",
       "    </tr>\n",
       "    <tr>\n",
       "      <th>4</th>\n",
       "      <td>123.0</td>\n",
       "      <td>2</td>\n",
       "      <td>1</td>\n",
       "      <td>1</td>\n",
       "      <td>1</td>\n",
       "      <td>Shahrake Gharb</td>\n",
       "      <td>233333.33</td>\n",
       "    </tr>\n",
       "  </tbody>\n",
       "</table>\n",
       "</div>"
      ],
      "text/plain": [
       "    Area  Room  Parking  Warehouse  Elevator         Address  Price(USD)\n",
       "0   63.0     1        1          1         1         Shahran    61666.67\n",
       "1   60.0     1        1          1         1         Shahran    61666.67\n",
       "2   79.0     2        1          1         1          Pardis    18333.33\n",
       "3   95.0     2        1          1         1   Shahrake Qods    30083.33\n",
       "4  123.0     2        1          1         1  Shahrake Gharb   233333.33"
      ]
     },
     "execution_count": 49,
     "metadata": {},
     "output_type": "execute_result"
    }
   ],
   "source": [
    "#changing object type of \"Area\" to a numeric type\n",
    "house_price['Area'] = pd.to_numeric(house_price['Area'], errors='coerce')\n",
    "\n",
    "#changing boolean types of 'Parking','Warehouse','Elevator' to integer\n",
    "\n",
    "boolean_features = ['Parking','Warehouse','Elevator']\n",
    "house_price[boolean_features] = house_price[boolean_features].astype('int64')\n",
    "\n",
    "#deleting 'Price' column\n",
    "house_price = house_price.drop(columns = ['Price'])\n",
    "# house_price = house_price.drop(columns = ['Price(USD)'])\n",
    "\n",
    "house_price.reset_index(drop = True, inplace= True)\n",
    "house_price.head()"
   ]
  },
  {
   "cell_type": "markdown",
   "id": "cdbe650e",
   "metadata": {},
   "source": [
    "### step3: Deal with missing data. <a id='missingData'></a> <br />"
   ]
  },
  {
   "cell_type": "code",
   "execution_count": 50,
   "id": "39764685",
   "metadata": {},
   "outputs": [
    {
     "data": {
      "text/plain": [
       "Area           6\n",
       "Room           0\n",
       "Parking        0\n",
       "Warehouse      0\n",
       "Elevator       0\n",
       "Address       23\n",
       "Price(USD)     0\n",
       "dtype: int64"
      ]
     },
     "execution_count": 50,
     "metadata": {},
     "output_type": "execute_result"
    }
   ],
   "source": [
    "house_price.isnull().sum()"
   ]
  },
  {
   "cell_type": "code",
   "execution_count": 51,
   "id": "69f903b4",
   "metadata": {
    "scrolled": true
   },
   "outputs": [
    {
     "name": "stdout",
     "output_type": "stream",
     "text": [
      "Shape of dataset after removing NA values: (3242, 7)\n"
     ]
    }
   ],
   "source": [
    "house_price.dropna(inplace=True)\n",
    "house_price.reset_index(drop = True, inplace= True)\n",
    "\n",
    "print(f\"Shape of dataset after removing NA values: {house_price.shape}\")"
   ]
  },
  {
   "cell_type": "code",
   "execution_count": 52,
   "id": "8769e268",
   "metadata": {},
   "outputs": [
    {
     "data": {
      "text/plain": [
       "Area          0\n",
       "Room          0\n",
       "Parking       0\n",
       "Warehouse     0\n",
       "Elevator      0\n",
       "Address       0\n",
       "Price(USD)    0\n",
       "dtype: int64"
      ]
     },
     "execution_count": 52,
     "metadata": {},
     "output_type": "execute_result"
    }
   ],
   "source": [
    "house_price.isnull().sum()"
   ]
  },
  {
   "cell_type": "markdown",
   "id": "b0639fc1",
   "metadata": {},
   "source": [
    "### step4: Filter out data outliers.  <a id='outliers'></a> <br />"
   ]
  },
  {
   "cell_type": "markdown",
   "id": "333d3a27",
   "metadata": {},
   "source": [
    "our dataset must follow a normal (or Gaussian) distribution.for that, the skewness value of dataset's variables should be between -1 and +1, and any major deviation from this range indicates the presence of extreme values."
   ]
  },
  {
   "cell_type": "code",
   "execution_count": 53,
   "id": "04684dd2",
   "metadata": {
    "scrolled": false
   },
   "outputs": [
    {
     "name": "stdout",
     "output_type": "stream",
     "text": [
      "Skewness of features:\n",
      "Area          4.458299\n",
      "Room          0.639516\n",
      "Parking      -1.909123\n",
      "Warehouse    -2.960367\n",
      "Elevator     -1.392628\n",
      "Price(USD)    4.729404\n",
      "dtype: float64\n"
     ]
    }
   ],
   "source": [
    "print(f\"Skewness of features:\\n{house_price.skew()}\")"
   ]
  },
  {
   "cell_type": "code",
   "execution_count": 54,
   "id": "1afa081f",
   "metadata": {
    "scrolled": false
   },
   "outputs": [
    {
     "data": {
      "text/plain": [
       "<AxesSubplot:xlabel='Price(USD)'>"
      ]
     },
     "execution_count": 54,
     "metadata": {},
     "output_type": "execute_result"
    },
    {
     "data": {
      "image/png": "[encoded data removed]",
      "text/plain": [
       "<Figure size 1152x288 with 2 Axes>"
      ]
     },
     "metadata": {},
     "output_type": "display_data"
    }
   ],
   "source": [
    "plt.figure(figsize = (16,4))\n",
    "\n",
    "plt.subplot(2,1,1)\n",
    "sns.boxplot(x = house_price['Area'])\n",
    "\n",
    "plt.subplot(2,1,2)\n",
    "sns.boxplot(x = house_price['Price(USD)'])\n",
    "\n"
   ]
  },
  {
   "cell_type": "code",
   "execution_count": 55,
   "id": "d04bdeaf",
   "metadata": {},
   "outputs": [
    {
     "name": "stdout",
     "output_type": "stream",
     "text": [
      "Lower limit for area: -6.50\n",
      "Upper limit for area: 197.50\n",
      "Lower limit for price: -189,541.67124999996\n",
      "Upper limit for price: 442,124.99874999997\n"
     ]
    }
   ],
   "source": [
    "def lower_upper(x):\n",
    "    Q1 = np.percentile(x, 25)\n",
    "    Q3 = np.percentile(x, 75)\n",
    "    IQR = Q3 - Q1\n",
    "    lower = Q1 - 1.5 * IQR\n",
    "    upper = Q3 + 1.5 * IQR\n",
    "    \n",
    "    return lower, upper\n",
    "\n",
    "lower_area, upper_area = lower_upper(house_price['Area'])\n",
    "lower_price, upper_price = lower_upper(house_price['Price(USD)'])\n",
    "\n",
    "print(f\"Lower limit for area: {lower_area:0.2f}\")\n",
    "print(f\"Upper limit for area: {upper_area:0.2f}\")\n",
    "print(f\"Lower limit for price: {lower_price:,}\")\n",
    "print(f\"Upper limit for price: {upper_price:,}\")"
   ]
  },
  {
   "cell_type": "code",
   "execution_count": 56,
   "id": "c174b858",
   "metadata": {},
   "outputs": [
    {
     "name": "stdout",
     "output_type": "stream",
     "text": [
      "Number of area outliers: 229\n",
      "Number of price outliers: 277\n",
      "Number of total outliers: 332\n"
     ]
    }
   ],
   "source": [
    "area_outliers = np.where(house_price['Area'] > upper_area)\n",
    "price_outliers = np.where(house_price['Price(USD)'] > upper_price)\n",
    "total_outliers = np.union1d(area_outliers, price_outliers)\n",
    "\n",
    "print(f\"Number of area outliers: {len(house_price.iloc[area_outliers])}\")\n",
    "print(f\"Number of price outliers: {len(house_price.iloc[price_outliers])}\")\n",
    "print(f\"Number of total outliers: {len(house_price.iloc[total_outliers])}\")"
   ]
  },
  {
   "cell_type": "code",
   "execution_count": 57,
   "id": "30705143",
   "metadata": {
    "scrolled": false
   },
   "outputs": [
    {
     "name": "stdout",
     "output_type": "stream",
     "text": [
      "Shape of new dataset: (2910, 7)\n"
     ]
    }
   ],
   "source": [
    "house_price.drop(total_outliers, inplace = True)\n",
    "house_price.reset_index(drop = True, inplace = True)\n",
    "print(f\"Shape of new dataset: {house_price.shape}\")"
   ]
  },
  {
   "cell_type": "code",
   "execution_count": 58,
   "id": "21f04afb",
   "metadata": {},
   "outputs": [
    {
     "data": {
      "text/plain": [
       "<AxesSubplot:xlabel='Price(USD)'>"
      ]
     },
     "execution_count": 58,
     "metadata": {},
     "output_type": "execute_result"
    },
    {
     "data": {
      "image/png": "[encoded data removed]",
      "text/plain": [
       "<Figure size 1152x288 with 2 Axes>"
      ]
     },
     "metadata": {},
     "output_type": "display_data"
    }
   ],
   "source": [
    "plt.figure(figsize = (16,4))\n",
    "\n",
    "plt.subplot(2,1,1)\n",
    "sns.boxplot(x = house_price['Area'])\n",
    "\n",
    "plt.subplot(2,1,2)\n",
    "sns.boxplot(x = house_price['Price(USD)'])\n",
    "\n"
   ]
  },
  {
   "cell_type": "code",
   "execution_count": 59,
   "id": "03f3297e",
   "metadata": {},
   "outputs": [
    {
     "name": "stdout",
     "output_type": "stream",
     "text": [
      "Skewness of features after drop outliers:\n",
      "Area          0.674259\n",
      "Room          0.171046\n",
      "Parking      -1.779850\n",
      "Warehouse    -2.895686\n",
      "Elevator     -1.389789\n",
      "Price(USD)    1.295932\n",
      "dtype: float64\n"
     ]
    }
   ],
   "source": [
    "print(f\"Skewness of features after drop outliers:\\n{house_price.skew()}\")"
   ]
  },
  {
   "cell_type": "markdown",
   "id": "bd9115e5",
   "metadata": {},
   "source": [
    "### step5: Convert categorical variable('Adress') into dummy variables. <a id='categorical'></a> <br />"
   ]
  },
  {
   "cell_type": "code",
   "execution_count": 18,
   "id": "6819edc7",
   "metadata": {
    "scrolled": true
   },
   "outputs": [
    {
     "data": {
      "text/html": [
       "<div>\n",
       "<style scoped>\n",
       "    .dataframe tbody tr th:only-of-type {\n",
       "        vertical-align: middle;\n",
       "    }\n",
       "\n",
       "    .dataframe tbody tr th {\n",
       "        vertical-align: top;\n",
       "    }\n",
       "\n",
       "    .dataframe thead th {\n",
       "        text-align: right;\n",
       "    }\n",
       "</style>\n",
       "<table border=\"1\" class=\"dataframe\">\n",
       "  <thead>\n",
       "    <tr style=\"text-align: right;\">\n",
       "      <th></th>\n",
       "      <th>Area</th>\n",
       "      <th>Room</th>\n",
       "      <th>Parking</th>\n",
       "      <th>Warehouse</th>\n",
       "      <th>Elevator</th>\n",
       "      <th>Price(USD)</th>\n",
       "      <th>Abazar</th>\n",
       "      <th>Abbasabad</th>\n",
       "      <th>Abuzar</th>\n",
       "      <th>Afsarieh</th>\n",
       "      <th>...</th>\n",
       "      <th>Waterfall</th>\n",
       "      <th>West Ferdows Boulevard</th>\n",
       "      <th>West Pars</th>\n",
       "      <th>Yaftabad</th>\n",
       "      <th>Yakhchiabad</th>\n",
       "      <th>Yousef Abad</th>\n",
       "      <th>Zafar</th>\n",
       "      <th>Zaferanieh</th>\n",
       "      <th>Zargandeh</th>\n",
       "      <th>Zibadasht</th>\n",
       "    </tr>\n",
       "  </thead>\n",
       "  <tbody>\n",
       "    <tr>\n",
       "      <th>0</th>\n",
       "      <td>63.0</td>\n",
       "      <td>1</td>\n",
       "      <td>1</td>\n",
       "      <td>1</td>\n",
       "      <td>1</td>\n",
       "      <td>61666.67</td>\n",
       "      <td>0</td>\n",
       "      <td>0</td>\n",
       "      <td>0</td>\n",
       "      <td>0</td>\n",
       "      <td>...</td>\n",
       "      <td>0</td>\n",
       "      <td>0</td>\n",
       "      <td>0</td>\n",
       "      <td>0</td>\n",
       "      <td>0</td>\n",
       "      <td>0</td>\n",
       "      <td>0</td>\n",
       "      <td>0</td>\n",
       "      <td>0</td>\n",
       "      <td>0</td>\n",
       "    </tr>\n",
       "    <tr>\n",
       "      <th>1</th>\n",
       "      <td>60.0</td>\n",
       "      <td>1</td>\n",
       "      <td>1</td>\n",
       "      <td>1</td>\n",
       "      <td>1</td>\n",
       "      <td>61666.67</td>\n",
       "      <td>0</td>\n",
       "      <td>0</td>\n",
       "      <td>0</td>\n",
       "      <td>0</td>\n",
       "      <td>...</td>\n",
       "      <td>0</td>\n",
       "      <td>0</td>\n",
       "      <td>0</td>\n",
       "      <td>0</td>\n",
       "      <td>0</td>\n",
       "      <td>0</td>\n",
       "      <td>0</td>\n",
       "      <td>0</td>\n",
       "      <td>0</td>\n",
       "      <td>0</td>\n",
       "    </tr>\n",
       "    <tr>\n",
       "      <th>2</th>\n",
       "      <td>79.0</td>\n",
       "      <td>2</td>\n",
       "      <td>1</td>\n",
       "      <td>1</td>\n",
       "      <td>1</td>\n",
       "      <td>18333.33</td>\n",
       "      <td>0</td>\n",
       "      <td>0</td>\n",
       "      <td>0</td>\n",
       "      <td>0</td>\n",
       "      <td>...</td>\n",
       "      <td>0</td>\n",
       "      <td>0</td>\n",
       "      <td>0</td>\n",
       "      <td>0</td>\n",
       "      <td>0</td>\n",
       "      <td>0</td>\n",
       "      <td>0</td>\n",
       "      <td>0</td>\n",
       "      <td>0</td>\n",
       "      <td>0</td>\n",
       "    </tr>\n",
       "  </tbody>\n",
       "</table>\n",
       "<p>3 rows × 193 columns</p>\n",
       "</div>"
      ],
      "text/plain": [
       "   Area  Room  Parking  Warehouse  Elevator  Price(USD)  Abazar  Abbasabad  \\\n",
       "0  63.0     1        1          1         1    61666.67       0          0   \n",
       "1  60.0     1        1          1         1    61666.67       0          0   \n",
       "2  79.0     2        1          1         1    18333.33       0          0   \n",
       "\n",
       "   Abuzar  Afsarieh  ...  Waterfall  West Ferdows Boulevard  West Pars  \\\n",
       "0       0         0  ...          0                       0          0   \n",
       "1       0         0  ...          0                       0          0   \n",
       "2       0         0  ...          0                       0          0   \n",
       "\n",
       "   Yaftabad  Yakhchiabad  Yousef Abad  Zafar  Zaferanieh  Zargandeh  Zibadasht  \n",
       "0         0            0            0      0           0          0          0  \n",
       "1         0            0            0      0           0          0          0  \n",
       "2         0            0            0      0           0          0          0  \n",
       "\n",
       "[3 rows x 193 columns]"
      ]
     },
     "execution_count": 18,
     "metadata": {},
     "output_type": "execute_result"
    }
   ],
   "source": [
    "addres_dummy = pd.get_dummies(house_price['Address'])\n",
    "house_price = house_price.merge(addres_dummy, left_index = True, right_index = True)\n",
    "house_price.drop(columns = 'Address', inplace = True)\n",
    "house_price.head(3)\n",
    "\n",
    "# from sklearn.preprocessing import LabelEncoder\n",
    "# encode_address = LabelEncoder()\n",
    "# house_price['Address'] = encode_address.fit_transform(house_price['Address'])\n",
    "# house_price\n"
   ]
  },
  {
   "cell_type": "markdown",
   "id": "15782577",
   "metadata": {},
   "source": [
    "# Modeling <a id = \"4\"></a> "
   ]
  },
  {
   "cell_type": "code",
   "execution_count": 20,
   "id": "aa93fbdb",
   "metadata": {},
   "outputs": [
    {
     "name": "stdout",
     "output_type": "stream",
     "text": [
      "shape of x train: (2328, 192)\n",
      "shape of y train: (2328,)\n",
      "shape of x test: (582, 192)\n",
      "shape of y train: (582,)\n"
     ]
    }
   ],
   "source": [
    "X = house_price.drop(columns = 'Price(USD)')\n",
    "y = house_price['Price(USD)']\n",
    "X_train, X_test, y_train, y_test = train_test_split(X, y, test_size = 0.2, random_state = 10)\n",
    "print(f\"shape of x train: {X_train.shape}\")\n",
    "print(f\"shape of y train: {y_train.shape}\")\n",
    "print(f\"shape of x test: {X_test.shape}\")\n",
    "print(f\"shape of y train: {y_test.shape}\")\n",
    "\n",
    "X=np.asanyarray(X)\n",
    "y=np.asanyarray(y)\n"
   ]
  },
  {
   "cell_type": "code",
   "execution_count": 28,
   "id": "5d725e05",
   "metadata": {},
   "outputs": [],
   "source": [
    "def parameter_finder (model, parameters):\n",
    "    \n",
    "    start = time.time()\n",
    "    \n",
    "    grid = GridSearchCV(model, \n",
    "                        param_grid = parameters, \n",
    "                        refit = \"r2\", \n",
    "                        cv = KFold(n_splits=5,shuffle = True, random_state = 10), \n",
    "                        n_jobs = -1)\n",
    "    grid_fit = grid.fit(X_train, y_train)\n",
    "    y_pred = grid_fit.predict(X_test)\n",
    "    \n",
    "    test_score = round(grid_fit.score(X_test, y_test), 4)\n",
    "    RMSE = round(np.sqrt(mean_squared_error(y_test, y_pred)))\n",
    "    \n",
    "    model_name = str(model).split('(')[0]\n",
    "    \n",
    "    end = time.time()\n",
    "    \n",
    "    print(f\"The best parameters for {model_name} model is: {grid_fit.best_params_}\")\n",
    "    print(\"--\" * 10)\n",
    "    print(f\"The coefficient of determination (R2 score) in the testing set is {test_score:0.2%} for {model_name} model.\")\n",
    "    print(f\"RMSE is {RMSE:,} for {model_name} model.\")\n",
    "    print(\"--\" * 10)\n",
    "    print(f\"Runtime of the program is: {end - start:0.2f}\")\n",
    "    \n",
    "       \n",
    "    return test_score, RMSE"
   ]
  },
  {
   "cell_type": "markdown",
   "id": "40b39a8e",
   "metadata": {},
   "source": [
    "### linear regression"
   ]
  },
  {
   "cell_type": "code",
   "execution_count": 29,
   "id": "1497cf6e",
   "metadata": {
    "scrolled": false
   },
   "outputs": [
    {
     "name": "stdout",
     "output_type": "stream",
     "text": [
      "The best parameters for LinearRegression model is: {'fit_intercept': False, 'normalize': True}\n",
      "--------------------\n",
      "The coefficient of determination (R2 score) in the testing set is -87446602050321874944.00% for LinearRegression model.\n",
      "RMSE is 94,692,158,453,580 for LinearRegression model.\n",
      "--------------------\n",
      "Runtime of the program is: 0.41\n"
     ]
    }
   ],
   "source": [
    "lr = LinearRegression(n_jobs = -1)\n",
    "\n",
    "lr_test_score, lr_RMSE = parameter_finder(lr, {'normalize':[True,False],\n",
    "                                                              'fit_intercept':[True,False]})"
   ]
  },
  {
   "cell_type": "markdown",
   "id": "95fdc902",
   "metadata": {},
   "source": [
    "the R2-score for linear regression is a negative number, which means The model fits the data very badly.\n",
    "so we can immidiately rule it out from our options for modeling  "
   ]
  },
  {
   "cell_type": "markdown",
   "id": "ee331362",
   "metadata": {},
   "source": [
    "### ridge regression"
   ]
  },
  {
   "cell_type": "code",
   "execution_count": 60,
   "id": "ee5ac45e",
   "metadata": {},
   "outputs": [
    {
     "name": "stdout",
     "output_type": "stream",
     "text": [
      "The best parameters for Ridge model is: {'alpha': 0.1}\n",
      "--------------------\n",
      "The coefficient of determination (R2 score) in the testing set is 85.43% for Ridge model.\n",
      "RMSE is 38,651 for Ridge model.\n",
      "--------------------\n",
      "Runtime of the program is: 2.91\n"
     ]
    }
   ],
   "source": [
    "ridge = Ridge(random_state = 1) # Linear least squares with l2 regularization.\n",
    "param_ridge = {'alpha': [0.001, 0.01, 0.1, 1, 10]}\n",
    "\n",
    "ridge_test_score, ridge_RMSE = parameter_finder(ridge, param_ridge)"
   ]
  },
  {
   "cell_type": "markdown",
   "id": "8727d024",
   "metadata": {},
   "source": [
    "### lasso regression"
   ]
  },
  {
   "cell_type": "code",
   "execution_count": 32,
   "id": "cb19be5d",
   "metadata": {},
   "outputs": [
    {
     "name": "stdout",
     "output_type": "stream",
     "text": [
      "The best parameters for Lasso model is: {'alpha': 10}\n",
      "--------------------\n",
      "The coefficient of determination (R2 score) in the testing set is 85.50% for Lasso model.\n",
      "RMSE is 38,562 for Lasso model.\n",
      "--------------------\n",
      "Runtime of the program is: 4.21\n"
     ]
    }
   ],
   "source": [
    "lasso = Lasso(random_state = 1) # Linear Model trained with L1 prior as regularizer.\n",
    "param_lasso = {'alpha': [0.001, 0.01, 0.1, 1, 10]}\n",
    "\n",
    "lasso_test_score, lasso_RMSE = parameter_finder(lasso, param_lasso)"
   ]
  },
  {
   "cell_type": "markdown",
   "id": "943d1dec",
   "metadata": {},
   "source": [
    "### elasticNet"
   ]
  },
  {
   "cell_type": "code",
   "execution_count": 34,
   "id": "edb78743",
   "metadata": {},
   "outputs": [
    {
     "name": "stdout",
     "output_type": "stream",
     "text": [
      "The best parameters for ElasticNet model is: {'alpha': 0.001, 'l1_ratio': 0.7}\n",
      "--------------------\n",
      "The coefficient of determination (R2 score) in the testing set is 85.41% for ElasticNet model.\n",
      "RMSE is 38,679 for ElasticNet model.\n",
      "--------------------\n",
      "Runtime of the program is: 2.08\n"
     ]
    }
   ],
   "source": [
    "eln = ElasticNet(random_state = 1) # Linear regression with combined L1 and L2 priors as regularizer.\n",
    "param_eln = {'alpha': [0.001, 0.01, 0.1, 1, 10],\n",
    "            'l1_ratio': [0.3, 0.4, 0.5, 0.6, 0.7]}\n",
    "\n",
    "eln_test_score, eln_RMSE = parameter_finder(eln, param_eln)"
   ]
  },
  {
   "cell_type": "markdown",
   "id": "7843bfa3",
   "metadata": {},
   "source": [
    "### decisionTree regressor"
   ]
  },
  {
   "cell_type": "code",
   "execution_count": 35,
   "id": "bc9579dd",
   "metadata": {},
   "outputs": [
    {
     "name": "stdout",
     "output_type": "stream",
     "text": [
      "The best parameters for DecisionTreeRegressor model is: {'min_samples_leaf': 1, 'min_samples_split': 4}\n",
      "--------------------\n",
      "The coefficient of determination (R2 score) in the testing set is 78.90% for DecisionTreeRegressor model.\n",
      "RMSE is 46,514 for DecisionTreeRegressor model.\n",
      "--------------------\n",
      "Runtime of the program is: 0.64\n"
     ]
    }
   ],
   "source": [
    "dtr = DecisionTreeRegressor(random_state = 1)\n",
    "param_dtr = {'min_samples_split': [2, 3, 4, 5],\n",
    "            'min_samples_leaf': [1, 2, 3]}\n",
    "\n",
    "dtr_test_score, dtr_RMSE = parameter_finder(dtr, param_dtr)"
   ]
  },
  {
   "cell_type": "markdown",
   "id": "ec57bb84",
   "metadata": {},
   "source": [
    "### randomForest regressor"
   ]
  },
  {
   "cell_type": "code",
   "execution_count": 36,
   "id": "946928c7",
   "metadata": {},
   "outputs": [
    {
     "name": "stdout",
     "output_type": "stream",
     "text": [
      "The best parameters for RandomForestRegressor model is: {'min_samples_leaf': 1, 'min_samples_split': 5}\n",
      "--------------------\n",
      "The coefficient of determination (R2 score) in the testing set is 83.21% for RandomForestRegressor model.\n",
      "RMSE is 41,495 for RandomForestRegressor model.\n",
      "--------------------\n",
      "Runtime of the program is: 13.82\n"
     ]
    }
   ],
   "source": [
    "rfr = RandomForestRegressor(random_state = 1, n_jobs = -1)\n",
    "param_rfr = {'min_samples_split': [2, 3, 4, 5],\n",
    "            'min_samples_leaf': [1, 2, 3]}\n",
    "\n",
    "rfr_test_score, rfr_RMSE = parameter_finder(rfr, param_rfr)"
   ]
  },
  {
   "cell_type": "markdown",
   "id": "2ec95ea6",
   "metadata": {},
   "source": [
    "### KNeighbor regressor"
   ]
  },
  {
   "cell_type": "code",
   "execution_count": 37,
   "id": "0233d7b2",
   "metadata": {},
   "outputs": [
    {
     "name": "stdout",
     "output_type": "stream",
     "text": [
      "The best parameters for KNeighborsRegressor model is: {'n_neighbors': 15, 'weights': 'distance'}\n",
      "--------------------\n",
      "The coefficient of determination (R2 score) in the testing set is 62.42% for KNeighborsRegressor model.\n",
      "RMSE is 62,073 for KNeighborsRegressor model.\n",
      "--------------------\n",
      "Runtime of the program is: 1.08\n"
     ]
    }
   ],
   "source": [
    "knr = KNeighborsRegressor(n_jobs = -1)\n",
    "param_knr = {'n_neighbors': [5, 10, 15, 20],\n",
    "            'weights': ['uniform', 'distance']}\n",
    "\n",
    "knr_test_score, knr_RMSE = parameter_finder(knr, param_knr)"
   ]
  },
  {
   "cell_type": "markdown",
   "id": "50b91fdc",
   "metadata": {},
   "source": [
    "# Conclusions <a id = \"5\"></a> "
   ]
  },
  {
   "cell_type": "code",
   "execution_count": 61,
   "id": "86183b48",
   "metadata": {
    "scrolled": true
   },
   "outputs": [
    {
     "data": {
      "text/html": [
       "<div>\n",
       "<style scoped>\n",
       "    .dataframe tbody tr th:only-of-type {\n",
       "        vertical-align: middle;\n",
       "    }\n",
       "\n",
       "    .dataframe tbody tr th {\n",
       "        vertical-align: top;\n",
       "    }\n",
       "\n",
       "    .dataframe thead th {\n",
       "        text-align: right;\n",
       "    }\n",
       "</style>\n",
       "<table border=\"1\" class=\"dataframe\">\n",
       "  <thead>\n",
       "    <tr style=\"text-align: right;\">\n",
       "      <th></th>\n",
       "      <th>Testing score</th>\n",
       "      <th>RMSE</th>\n",
       "    </tr>\n",
       "  </thead>\n",
       "  <tbody>\n",
       "    <tr>\n",
       "      <th>Ridge</th>\n",
       "      <td>0.8543</td>\n",
       "      <td>38651</td>\n",
       "    </tr>\n",
       "    <tr>\n",
       "      <th>Lasso</th>\n",
       "      <td>0.8550</td>\n",
       "      <td>38562</td>\n",
       "    </tr>\n",
       "    <tr>\n",
       "      <th>ElasticNet</th>\n",
       "      <td>0.8541</td>\n",
       "      <td>38679</td>\n",
       "    </tr>\n",
       "    <tr>\n",
       "      <th>DecisionTreeRegressor</th>\n",
       "      <td>0.7890</td>\n",
       "      <td>46514</td>\n",
       "    </tr>\n",
       "    <tr>\n",
       "      <th>RandomForestRegressor</th>\n",
       "      <td>0.8321</td>\n",
       "      <td>41495</td>\n",
       "    </tr>\n",
       "    <tr>\n",
       "      <th>KNeighborsRegressor</th>\n",
       "      <td>0.6242</td>\n",
       "      <td>62073</td>\n",
       "    </tr>\n",
       "  </tbody>\n",
       "</table>\n",
       "</div>"
      ],
      "text/plain": [
       "                       Testing score   RMSE\n",
       "Ridge                         0.8543  38651\n",
       "Lasso                         0.8550  38562\n",
       "ElasticNet                    0.8541  38679\n",
       "DecisionTreeRegressor         0.7890  46514\n",
       "RandomForestRegressor         0.8321  41495\n",
       "KNeighborsRegressor           0.6242  62073"
      ]
     },
     "execution_count": 61,
     "metadata": {},
     "output_type": "execute_result"
    }
   ],
   "source": [
    "models_score = pd.DataFrame({'Testing score': [\n",
    "                                 ridge_test_score, \n",
    "                                                lasso_test_score, eln_test_score,\n",
    "                                               dtr_test_score, rfr_test_score,\n",
    "                                               knr_test_score],\n",
    "                             'RMSE': [\n",
    "                                 ridge_RMSE,\n",
    "                                      lasso_RMSE, eln_RMSE,\n",
    "                                      dtr_RMSE, rfr_RMSE,\n",
    "                                      knr_RMSE],                             \n",
    "                             },\n",
    "                           index = [\n",
    "                               'Ridge', 'Lasso','ElasticNet',\n",
    "                                    'DecisionTreeRegressor', 'RandomForestRegressor',\n",
    "                                    'KNeighborsRegressor']\n",
    "                           )\n",
    "\n",
    "models_score"
   ]
  },
  {
   "cell_type": "code",
   "execution_count": 65,
   "id": "de1c9f47",
   "metadata": {},
   "outputs": [
    {
     "data": {
      "image/png": "[encoded data removed]",
      "text/plain": [
       "<Figure size 1440x720 with 2 Axes>"
      ]
     },
     "metadata": {},
     "output_type": "display_data"
    }
   ],
   "source": [
    "fig, ax = plt.subplots(figsize=(20,10))\n",
    "\n",
    "sns.set(style='white')\n",
    "\n",
    "ax.set_title(\"Comparison of models performance on test data\", fontsize = 20)\n",
    "\n",
    "ax = sns.barplot(x = list(models_score.index), y = models_score['RMSE']/1e3, \n",
    "                 alpha = 0.7, palette='Greens_r')\n",
    "\n",
    "ax.set_ylabel(\"RMSE\\n(thousand dollars)\", fontsize = 20)\n",
    "\n",
    "sec_ax = ax.twinx()\n",
    "\n",
    "sec_ax = sns.lineplot(x = list(models_score.index), y = models_score['Testing score'],\n",
    "                 linewidth = 3, color = 'red')\n",
    "sec_ax = sns.scatterplot(x = list(models_score.index), y = models_score['Testing score'],\n",
    "                    s = 200)\n",
    "\n",
    "sec_ax.set_ylabel(\"R2 scores\", fontsize = 20)\n",
    "\n",
    "sec_ax.legend(labels = [\n",
    "    'Testing score'], fontsize = 20,loc='best')\n",
    "\n",
    "plt.show()"
   ]
  },
  {
   "cell_type": "markdown",
   "id": "30a931dd",
   "metadata": {},
   "source": [
    "#### in conclusion, the best methods for our modelling would be \"Ridge,lasso and ElasticNet\" (all three of them almost have the same performance)"
   ]
  }
 ],
 "metadata": {
  "kernelspec": {
   "display_name": "Python 3 (ipykernel)",
   "language": "python",
   "name": "python3"
  },
  "language_info": {
   "codemirror_mode": {
    "name": "ipython",
    "version": 3
   },
   "file_extension": ".py",
   "mimetype": "text/x-python",
   "name": "python",
   "nbconvert_exporter": "python",
   "pygments_lexer": "ipython3",
   "version": "3.10.2"
  }
 },
 "nbformat": 4,
 "nbformat_minor": 5
}
